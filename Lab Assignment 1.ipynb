{
  "metadata": {
    "kernelspec": {
      "name": "xpython",
      "display_name": "Python 3.13 (XPython)",
      "language": "python"
    },
    "language_info": {
      "file_extension": ".py",
      "mimetype": "text/x-python",
      "name": "python",
      "version": "3.13.1"
    }
  },
  "nbformat_minor": 5,
  "nbformat": 4,
  "cells": [
    {
      "id": "f502f22c-9a6d-4b22-bc31-454bd3e92e3c",
      "cell_type": "markdown",
      "source": "# Naima Mukhtar (FA25-BBD-160)",
      "metadata": {}
    },
    {
      "id": "97215377-3163-4951-bb53-382066f0d514",
      "cell_type": "markdown",
      "source": "# Question no 1\n#Write a for loop to print all even numbers from 2 to 20.",
      "metadata": {}
    },
    {
      "id": "58fe247b-a85c-47f1-842e-3da42bb06d52",
      "cell_type": "code",
      "source": "for num in range(1,21):\n    if num%2==0:\n        print(num)",
      "metadata": {
        "trusted": true
      },
      "outputs": [
        {
          "name": "stdout",
          "output_type": "stream",
          "text": "2\n4\n6\n8\n10\n12\n14\n16\n18\n20\n"
        }
      ],
      "execution_count": 1
    },
    {
      "id": "1389538d-895b-4675-a713-13aea9c2df76",
      "cell_type": "markdown",
      "source": "# Question no 2\n#Create a list of names and use a for loop to print each name in uppercase",
      "metadata": {}
    },
    {
      "id": "a0e65875-8f19-4093-9fad-ad6d1d1021a3",
      "cell_type": "code",
      "source": "names=['aima','alina','fatima','zoha','raima']\nfor name in names:\n    print(name.upper())",
      "metadata": {
        "trusted": true
      },
      "outputs": [
        {
          "name": "stdout",
          "output_type": "stream",
          "text": "AIMA\nALINA\nFATIMA\nZOHA\nRAIMA\n"
        }
      ],
      "execution_count": 2
    },
    {
      "id": "075606bb-1732-4b37-9b35-beea1d90a523",
      "cell_type": "markdown",
      "source": "# Question no 3\n#Use a for loop with range() to print numbers from 10 to 1 in reverse order.",
      "metadata": {}
    },
    {
      "id": "794fb184-88e7-42f4-b1d7-b8868cc17eb9",
      "cell_type": "code",
      "source": "for num in range(10,0,-1):\n    print(num)",
      "metadata": {
        "trusted": true
      },
      "outputs": [
        {
          "name": "stdout",
          "output_type": "stream",
          "text": "10\n9\n8\n7\n6\n5\n4\n3\n2\n1\n"
        }
      ],
      "execution_count": 3
    },
    {
      "id": "fe8310de-cdc6-47e4-b838-bca39bcb64aa",
      "cell_type": "markdown",
      "source": "# Question no 4\n#Iterate through a list of integers and print only the numbers that are divisible by 3.",
      "metadata": {}
    },
    {
      "id": "69bced38-a7c4-45a4-915c-2b12d6391cb5",
      "cell_type": "code",
      "source": "numbers=[1,3,5,7,9,11,13,15,17,19,21,23,25,27,30]\nfor num in numbers:\n    if num % 3==0:\n        print(num)",
      "metadata": {
        "trusted": true
      },
      "outputs": [
        {
          "name": "stdout",
          "output_type": "stream",
          "text": "3\n9\n15\n21\n27\n30\n"
        }
      ],
      "execution_count": 4
    },
    {
      "id": "3d4b4f78-975b-4906-8235-2b8e29533f9e",
      "cell_type": "markdown",
      "source": "# Question no 5\n#Write a loop that prints the squares of numbers from 1 to 10.",
      "metadata": {}
    },
    {
      "id": "3ba5d76b-21a1-4b0a-9764-603b2f699545",
      "cell_type": "code",
      "source": "for num in range(1,11):\n    square= num**2\n    print(square)",
      "metadata": {
        "trusted": true
      },
      "outputs": [
        {
          "name": "stdout",
          "output_type": "stream",
          "text": "1\n4\n9\n16\n25\n36\n49\n64\n81\n100\n"
        }
      ],
      "execution_count": 5
    },
    {
      "id": "b5496be7-69cf-48cd-be7b-1e4bc4de6a5f",
      "cell_type": "markdown",
      "source": "# Question no 6\n#Given a list of temperatures in Celsius, use a for loop to convert each to Fahrenheit.",
      "metadata": {}
    },
    {
      "id": "9fafa499-d923-4578-b387-3567a22f5f0f",
      "cell_type": "code",
      "source": "celsius=[39,45,47,53,56]\nfor temp in celsius:\n    fahrenheit=temp*9/5+32\n    print(f\"{temp}\\u00B0C = {fahrenheit}\\u00B0F\")",
      "metadata": {
        "trusted": true
      },
      "outputs": [
        {
          "name": "stdout",
          "output_type": "stream",
          "text": "39°C = 102.2°F\n45°C = 113.0°F\n47°C = 116.6°F\n53°C = 127.4°F\n56°C = 132.8°F\n"
        }
      ],
      "execution_count": 6
    },
    {
      "id": "7b812f6a-8197-4aad-9704-30ba2a40a84a",
      "cell_type": "markdown",
      "source": "# Question no 7\n#Create a for loop that prints the multiplication table of 5.",
      "metadata": {}
    },
    {
      "id": "ae95749c-5634-43d5-9b85-8a81f810ba01",
      "cell_type": "code",
      "source": "numbers=[1,2,3,4,5,6,7,8,9,10]\nfor number in numbers:\n    num = number*5\n    print(f\"5 * {number} = {num}\")",
      "metadata": {
        "trusted": true
      },
      "outputs": [
        {
          "name": "stdout",
          "output_type": "stream",
          "text": "5 * 1 = 5\n5 * 2 = 10\n5 * 3 = 15\n5 * 4 = 20\n5 * 5 = 25\n5 * 6 = 30\n5 * 7 = 35\n5 * 8 = 40\n5 * 9 = 45\n5 * 10 = 50\n"
        }
      ],
      "execution_count": 7
    },
    {
      "id": "6735dc93-49c2-46e4-87d9-454cb8f1a492",
      "cell_type": "markdown",
      "source": "# Question no 8\n#Write a program to find the sum of all numbers in a list using a for loop.",
      "metadata": {}
    },
    {
      "id": "ccd0f598-9c1d-4a71-b81b-706db83fdbd9",
      "cell_type": "code",
      "source": "numbers=[8,15,24,27,32]\ntotal=0\nfor num in numbers:\n    total+=num\nprint(\"The sum of all numbers in a list is :\",total)",
      "metadata": {
        "trusted": true
      },
      "outputs": [
        {
          "name": "stdout",
          "output_type": "stream",
          "text": "The sum of all numbers in a list is : 106\n"
        }
      ],
      "execution_count": 8
    },
    {
      "id": "2e5f57dd-3ce4-4a08-8647-f3547b5cd767",
      "cell_type": "markdown",
      "source": "# Question no 9\n#Use a for loop to iterate through a string and print each character separately.",
      "metadata": {}
    },
    {
      "id": "b37ece04-06e0-45a7-a8f0-908fa001efcb",
      "cell_type": "code",
      "source": "word= 'interpreter'\nfor ch in word:\n    print(ch)",
      "metadata": {
        "trusted": true
      },
      "outputs": [
        {
          "name": "stdout",
          "output_type": "stream",
          "text": "i\nn\nt\ne\nr\np\nr\ne\nt\ne\nr\n"
        }
      ],
      "execution_count": 9
    },
    {
      "id": "05763325-f9d9-4a31-a9fd-5fc18cd95857",
      "cell_type": "markdown",
      "source": "# Question no 10\n#Create a list of words and use a for loop to print only the words with more than 5 letters.",
      "metadata": {}
    },
    {
      "id": "3454c246-3bff-49f6-bb07-bfa345c8be5a",
      "cell_type": "code",
      "source": "words=['bag','vedio games','tissue','cloud','fruits','ball']\nfor name in words:\n    if len(name) > 5:\n        print(name)",
      "metadata": {
        "trusted": true
      },
      "outputs": [
        {
          "name": "stdout",
          "output_type": "stream",
          "text": "vedio games\ntissue\nfruits\n"
        }
      ],
      "execution_count": 10
    }
  ]
}